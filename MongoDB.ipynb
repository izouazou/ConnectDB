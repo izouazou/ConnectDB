{
 "cells": [
  {
   "cell_type": "code",
   "execution_count": 15,
   "id": "510895d5-237a-46e0-8aa4-4b90c646bc3a",
   "metadata": {},
   "outputs": [],
   "source": [
    "#!pip3 install pymongo"
   ]
  },
  {
   "cell_type": "code",
   "execution_count": 5,
   "id": "3a4cb04c-5a47-4cdf-83ae-a5d630beeee7",
   "metadata": {},
   "outputs": [],
   "source": [
    "import pymongo\n",
    "from pymongo import MongoClient\n",
    "import datetime"
   ]
  },
  {
   "cell_type": "code",
   "execution_count": 6,
   "id": "8511c95e-0399-421d-9b51-e531649f2073",
   "metadata": {},
   "outputs": [],
   "source": [
    "# MongoDB connection parameters\n",
    "user = \"mongo\"\n",
    "password = \"mongo\"\n",
    "host = \"localhost\"\n",
    "port = 27017\n",
    "database = 'mydb'"
   ]
  },
  {
   "cell_type": "code",
   "execution_count": 7,
   "id": "de88df56-c142-470b-9b46-9c2598aaf2a6",
   "metadata": {},
   "outputs": [],
   "source": [
    "# Connect to MongoDB\n",
    "client = MongoClient(f'mongodb://{user}:{password}@{host}:{port}/{database}')\n",
    "db = client[database]"
   ]
  },
  {
   "cell_type": "code",
   "execution_count": 8,
   "id": "3d013834-35c1-40e0-8f7a-391ddbcb638f",
   "metadata": {},
   "outputs": [
    {
     "name": "stdout",
     "output_type": "stream",
     "text": [
      "['admin', 'config', 'local', 'mydb']\n"
     ]
    }
   ],
   "source": [
    "# Retrieve a list of the names of all databases available on the MongoDB server\n",
    "database_names = client.list_database_names()\n",
    "print(database_names)"
   ]
  },
  {
   "cell_type": "code",
   "execution_count": 9,
   "id": "aa30533a-3eba-4623-a0bb-e3d2a2d42ccc",
   "metadata": {},
   "outputs": [],
   "source": [
    "# Authenticate if needed\n",
    "# db.authenticate(name=user, password=password)"
   ]
  },
  {
   "cell_type": "code",
   "execution_count": 10,
   "id": "58bb7da8-bc56-48b1-aea4-01007d45ab7a",
   "metadata": {},
   "outputs": [],
   "source": [
    "# Define a document\n",
    "post = {\"author\": \"Jack\", \"date\": datetime.datetime.utcnow()}"
   ]
  },
  {
   "cell_type": "code",
   "execution_count": 11,
   "id": "83b4a5f3-f3a6-4e96-9bd9-a1676c52a1a0",
   "metadata": {},
   "outputs": [
    {
     "name": "stdout",
     "output_type": "stream",
     "text": [
      "['mydb', 'ExampleCollection']\n"
     ]
    }
   ],
   "source": [
    "# Retrieve a list of the names of all collections within the 'mydb' database\n",
    "collection_names = db.list_collection_names()\n",
    "print(collection_names)"
   ]
  },
  {
   "cell_type": "code",
   "execution_count": 12,
   "id": "cd5f0132-86d6-4ac1-9de6-5ab1e01e2f89",
   "metadata": {},
   "outputs": [],
   "source": [
    "# Access or create a collection\n",
    "example_collection = db[\"ExampleCollection\"]"
   ]
  },
  {
   "cell_type": "code",
   "execution_count": 13,
   "id": "41f675bf-b60c-4813-9c32-f88458d8eab7",
   "metadata": {},
   "outputs": [
    {
     "name": "stdout",
     "output_type": "stream",
     "text": [
      "Document inserted with ID: 658dd370aa8376621da1b3d2\n"
     ]
    }
   ],
   "source": [
    "# Insert document into the collection\n",
    "inserted_id = example_collection.insert_one(post).inserted_id\n",
    "print(f\"Document inserted with ID: {inserted_id}\")"
   ]
  },
  {
   "cell_type": "code",
   "execution_count": 14,
   "id": "6f6b71b3-e608-4ab8-8368-47ce17ffabf9",
   "metadata": {},
   "outputs": [
    {
     "name": "stdout",
     "output_type": "stream",
     "text": [
      "{'_id': ObjectId('658dcf19d8fc262aab9a4087'), 'author': 'Mike', 'date': datetime.datetime(2023, 12, 28, 19, 40, 6, 14000)}\n",
      "{'_id': ObjectId('658dcf3efc7db08dc651cbc1'), 'author': 'Mike', 'date': datetime.datetime(2023, 12, 28, 19, 40, 46, 326000)}\n",
      "{'_id': ObjectId('658dd02b12a15a2ce64df861'), 'author': 'Mike', 'date': datetime.datetime(2023, 12, 28, 19, 44, 42, 958000)}\n",
      "{'_id': ObjectId('658dd1ab210fb214daf3d497'), 'author': 'Mike', 'date': datetime.datetime(2023, 12, 28, 19, 51, 7, 797000)}\n",
      "{'_id': ObjectId('658dd1c3210fb214daf3d499'), 'author': 'jack', 'date': datetime.datetime(2023, 12, 28, 19, 51, 31, 314000)}\n",
      "{'_id': ObjectId('658dd1d2210fb214daf3d49b'), 'author': 'jack', 'date': datetime.datetime(2023, 12, 28, 19, 51, 46, 781000)}\n",
      "{'_id': ObjectId('658dd289210fb214daf3d49d'), 'author': 'Mike', 'date': datetime.datetime(2023, 12, 28, 19, 54, 49, 75000)}\n",
      "{'_id': ObjectId('658dd295aa8376621da1b3ce'), 'author': 'Mike', 'date': datetime.datetime(2023, 12, 28, 19, 55, 1, 325000)}\n",
      "{'_id': ObjectId('658dd2d6aa8376621da1b3d0'), 'author': 'Jack', 'date': datetime.datetime(2023, 12, 28, 19, 56, 6, 341000)}\n",
      "{'_id': ObjectId('658dd370aa8376621da1b3d2'), 'author': 'Jack', 'date': datetime.datetime(2023, 12, 28, 19, 58, 40, 799000)}\n"
     ]
    }
   ],
   "source": [
    "# Retrieve and print all documents in the collection\n",
    "for document in example_collection.find():\n",
    "    print(document)"
   ]
  }
 ],
 "metadata": {
  "kernelspec": {
   "display_name": "Python 3 (ipykernel)",
   "language": "python",
   "name": "python3"
  },
  "language_info": {
   "codemirror_mode": {
    "name": "ipython",
    "version": 3
   },
   "file_extension": ".py",
   "mimetype": "text/x-python",
   "name": "python",
   "nbconvert_exporter": "python",
   "pygments_lexer": "ipython3",
   "version": "3.11.6"
  }
 },
 "nbformat": 4,
 "nbformat_minor": 5
}
