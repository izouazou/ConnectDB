{
 "cells": [
  {
   "cell_type": "code",
   "execution_count": 5,
   "id": "5433dcc3-ad01-40dc-a747-eefa49a4212d",
   "metadata": {},
   "outputs": [],
   "source": [
    "# !pip install sqlalchemy psycopg2-binary"
   ]
  },
  {
   "cell_type": "code",
   "execution_count": 12,
   "id": "22378638-0754-4374-bb33-73652be50c03",
   "metadata": {},
   "outputs": [],
   "source": [
    "import pandas as pd\n",
    "from sqlalchemy import create_engine\n",
    "import psycopg2 as ps"
   ]
  },
  {
   "cell_type": "code",
   "execution_count": 13,
   "id": "f0c01073-4ea5-425b-9e95-52e5e0931c01",
   "metadata": {},
   "outputs": [],
   "source": [
    "# Define database connection parameters\n",
    "db_params = {\n",
    "    \"dbname\": \"postgres\",\n",
    "    \"user\": \"postgres\",\n",
    "    \"password\": \"postgres\",\n",
    "    \"host\": \"localhost\",\n",
    "    \"port\": \"5432\"\n",
    "}"
   ]
  },
  {
   "cell_type": "markdown",
   "id": "3b928d6f-6bfa-4da8-be75-ee116d3467ed",
   "metadata": {},
   "source": [
    "#### Using sqlalchemy:"
   ]
  },
  {
   "cell_type": "code",
   "execution_count": 14,
   "id": "9e6b74db-1408-4445-a1d7-9da3bfa3f780",
   "metadata": {},
   "outputs": [
    {
     "name": "stderr",
     "output_type": "stream",
     "text": [
      "C:\\Users\\ssd\\AppData\\Local\\Temp\\ipykernel_7928\\919018271.py:8: UserWarning: pandas only supports SQLAlchemy connectable (engine/connection) or database string URI or sqlite3 DBAPI2 connection. Other DBAPI2 objects are not tested. Please consider using SQLAlchemy.\n",
      "  df = pd.read_sql_query(sql_query, engine.raw_connection())\n"
     ]
    },
    {
     "data": {
      "text/html": [
       "<div>\n",
       "<style scoped>\n",
       "    .dataframe tbody tr th:only-of-type {\n",
       "        vertical-align: middle;\n",
       "    }\n",
       "\n",
       "    .dataframe tbody tr th {\n",
       "        vertical-align: top;\n",
       "    }\n",
       "\n",
       "    .dataframe thead th {\n",
       "        text-align: right;\n",
       "    }\n",
       "</style>\n",
       "<table border=\"1\" class=\"dataframe\">\n",
       "  <thead>\n",
       "    <tr style=\"text-align: right;\">\n",
       "      <th></th>\n",
       "      <th>id</th>\n",
       "      <th>body</th>\n",
       "      <th>updated</th>\n",
       "      <th>created</th>\n",
       "      <th>completed</th>\n",
       "    </tr>\n",
       "  </thead>\n",
       "  <tbody>\n",
       "    <tr>\n",
       "      <th>0</th>\n",
       "      <td>6</td>\n",
       "      <td>PostgreSQL</td>\n",
       "      <td>2023-11-20 02:50:28.198961+00:00</td>\n",
       "      <td>2023-11-20 02:50:24.049906+00:00</td>\n",
       "      <td>False</td>\n",
       "    </tr>\n",
       "    <tr>\n",
       "      <th>1</th>\n",
       "      <td>8</td>\n",
       "      <td>PostgreSQL\\nPostgreSQL\\nPostgreSQLPostgreSQL\\n...</td>\n",
       "      <td>2023-11-20 02:50:48.177334+00:00</td>\n",
       "      <td>2023-11-20 02:50:40.006472+00:00</td>\n",
       "      <td>True</td>\n",
       "    </tr>\n",
       "  </tbody>\n",
       "</table>\n",
       "</div>"
      ],
      "text/plain": [
       "   id                                               body  \\\n",
       "0   6                                         PostgreSQL   \n",
       "1   8  PostgreSQL\\nPostgreSQL\\nPostgreSQLPostgreSQL\\n...   \n",
       "\n",
       "                           updated                          created  completed  \n",
       "0 2023-11-20 02:50:28.198961+00:00 2023-11-20 02:50:24.049906+00:00      False  \n",
       "1 2023-11-20 02:50:48.177334+00:00 2023-11-20 02:50:40.006472+00:00       True  "
      ]
     },
     "execution_count": 14,
     "metadata": {},
     "output_type": "execute_result"
    }
   ],
   "source": [
    "# Create a database connection engine\n",
    "engine = create_engine(f\"postgresql+psycopg2://{db_params['user']}:{db_params['password']}@{db_params['host']}:{db_params['port']}/{db_params['dbname']}\")\n",
    "\n",
    "# SQL query\n",
    "sql_query = \"SELECT * FROM public.base_task\"\n",
    "\n",
    "# Read data into a DataFrame\n",
    "df = pd.read_sql_query(sql_query, engine.raw_connection())\n",
    "\n",
    "# Display the first 2 rows of the DataFrame\n",
    "df.head(2)"
   ]
  },
  {
   "cell_type": "markdown",
   "id": "5e2b23cd-427f-47cb-85f5-734a137f380d",
   "metadata": {},
   "source": [
    "#### Using psycopg2:"
   ]
  },
  {
   "cell_type": "code",
   "execution_count": 15,
   "id": "ec9e4c89-3539-4667-99c2-12dee1154ede",
   "metadata": {},
   "outputs": [
    {
     "name": "stderr",
     "output_type": "stream",
     "text": [
      "C:\\Users\\ssd\\AppData\\Local\\Temp\\ipykernel_7928\\540693181.py:17: UserWarning: pandas only supports SQLAlchemy connectable (engine/connection) or database string URI or sqlite3 DBAPI2 connection. Other DBAPI2 objects are not tested. Please consider using SQLAlchemy.\n",
      "  df = pd.read_sql_query(sql_query, conn)\n"
     ]
    },
    {
     "data": {
      "text/html": [
       "<div>\n",
       "<style scoped>\n",
       "    .dataframe tbody tr th:only-of-type {\n",
       "        vertical-align: middle;\n",
       "    }\n",
       "\n",
       "    .dataframe tbody tr th {\n",
       "        vertical-align: top;\n",
       "    }\n",
       "\n",
       "    .dataframe thead th {\n",
       "        text-align: right;\n",
       "    }\n",
       "</style>\n",
       "<table border=\"1\" class=\"dataframe\">\n",
       "  <thead>\n",
       "    <tr style=\"text-align: right;\">\n",
       "      <th></th>\n",
       "      <th>id</th>\n",
       "      <th>body</th>\n",
       "      <th>updated</th>\n",
       "      <th>created</th>\n",
       "      <th>completed</th>\n",
       "    </tr>\n",
       "  </thead>\n",
       "  <tbody>\n",
       "    <tr>\n",
       "      <th>0</th>\n",
       "      <td>6</td>\n",
       "      <td>PostgreSQL</td>\n",
       "      <td>2023-11-20 02:50:28.198961+00:00</td>\n",
       "      <td>2023-11-20 02:50:24.049906+00:00</td>\n",
       "      <td>False</td>\n",
       "    </tr>\n",
       "    <tr>\n",
       "      <th>1</th>\n",
       "      <td>8</td>\n",
       "      <td>PostgreSQL\\nPostgreSQL\\nPostgreSQLPostgreSQL\\n...</td>\n",
       "      <td>2023-11-20 02:50:48.177334+00:00</td>\n",
       "      <td>2023-11-20 02:50:40.006472+00:00</td>\n",
       "      <td>True</td>\n",
       "    </tr>\n",
       "  </tbody>\n",
       "</table>\n",
       "</div>"
      ],
      "text/plain": [
       "   id                                               body  \\\n",
       "0   6                                         PostgreSQL   \n",
       "1   8  PostgreSQL\\nPostgreSQL\\nPostgreSQLPostgreSQL\\n...   \n",
       "\n",
       "                           updated                          created  completed  \n",
       "0 2023-11-20 02:50:28.198961+00:00 2023-11-20 02:50:24.049906+00:00      False  \n",
       "1 2023-11-20 02:50:48.177334+00:00 2023-11-20 02:50:40.006472+00:00       True  "
      ]
     },
     "execution_count": 15,
     "metadata": {},
     "output_type": "execute_result"
    }
   ],
   "source": [
    "# Create a database connection\n",
    "conn = ps.connect(**db_params)\n",
    "\n",
    "# SQL query\n",
    "sql_query = \"SELECT * FROM public.base_task\"\n",
    "\n",
    "# Read data into a DataFrame\n",
    "df = pd.read_sql_query(sql_query, conn)\n",
    "\n",
    "# Close the database connection\n",
    "conn.close()\n",
    "\n",
    "# Display the first 2 rows of the DataFrame\n",
    "df.head(2)"
   ]
  }
 ],
 "metadata": {
  "kernelspec": {
   "display_name": "Python 3 (ipykernel)",
   "language": "python",
   "name": "python3"
  },
  "language_info": {
   "codemirror_mode": {
    "name": "ipython",
    "version": 3
   },
   "file_extension": ".py",
   "mimetype": "text/x-python",
   "name": "python",
   "nbconvert_exporter": "python",
   "pygments_lexer": "ipython3",
   "version": "3.11.6"
  }
 },
 "nbformat": 4,
 "nbformat_minor": 5
}
